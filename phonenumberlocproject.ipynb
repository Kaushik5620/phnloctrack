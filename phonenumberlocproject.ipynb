{
 "cells": [
  {
   "cell_type": "code",
   "execution_count": null,
   "id": "154b3cc8",
   "metadata": {},
   "outputs": [],
   "source": [
    "pip install phonenumbers"
   ]
  },
  {
   "cell_type": "code",
   "execution_count": 3,
   "id": "7a8d94c2",
   "metadata": {},
   "outputs": [
    {
     "name": "stdout",
     "output_type": "stream",
     "text": [
      "Enter your phone number: +917278505620\n",
      "+917278505620\n",
      "Country Code: 91 National Number: 7278505620\n",
      "('Asia/Calcutta',)\n",
      "Aircel\n",
      "India\n"
     ]
    }
   ],
   "source": [
    "import phonenumbers\n",
    "from phonenumbers import timezone,geocoder,carrier\n",
    "number=input(\"Enter your phone number: \")\n",
    "phone=phonenumbers.parse(number)\n",
    "time=timezone.time_zones_for_number(phone)\n",
    "sim_details=carrier.name_for_number(phone,\"en\")\n",
    "register=geocoder.description_for_number(phone,\"en\")\n",
    "print(number)\n",
    "print(phone)\n",
    "print(time)\n",
    "print(sim_details)\n",
    "print(register)"
   ]
  },
  {
   "cell_type": "code",
   "execution_count": null,
   "id": "6ab6cd19",
   "metadata": {},
   "outputs": [],
   "source": []
  }
 ],
 "metadata": {
  "kernelspec": {
   "display_name": "Python 3 (ipykernel)",
   "language": "python",
   "name": "python3"
  },
  "language_info": {
   "codemirror_mode": {
    "name": "ipython",
    "version": 3
   },
   "file_extension": ".py",
   "mimetype": "text/x-python",
   "name": "python",
   "nbconvert_exporter": "python",
   "pygments_lexer": "ipython3",
   "version": "3.11.2"
  }
 },
 "nbformat": 4,
 "nbformat_minor": 5
}
